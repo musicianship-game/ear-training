{
 "cells": [
  {
   "cell_type": "markdown",
   "metadata": {},
   "source": [
    "## Modeling the musical difficulty"
   ]
  },
  {
   "cell_type": "code",
   "execution_count": 1,
   "metadata": {},
   "outputs": [],
   "source": [
    "import ipywidgets as widgets\n",
    "from IPython.display import Audio, display, clear_output\n",
    "from ipywidgets import interactive\n",
    "import matplotlib.pyplot as plt\n",
    "import seaborn as sns\n",
    "import numpy as np"
   ]
  },
  {
   "cell_type": "code",
   "execution_count": 2,
   "metadata": {},
   "outputs": [],
   "source": [
    "distributions = {\n",
    "    \"krumhansl_kessler\": [\n",
    "        0.15195022732711172, 0.0533620483369227, 0.08327351040918879,\n",
    "        0.05575496530270399, 0.10480976310122037, 0.09787030390045463,\n",
    "        0.06030150753768843, 0.1241923905240488, 0.05719071548217276,\n",
    "        0.08758076094759511, 0.05479779851639147, 0.06891600861450106,\n",
    "\n",
    "        0.14221523253201526, 0.06021118849696697, 0.07908335205571781,\n",
    "        0.12087171422152324, 0.05841383958660975, 0.07930802066951245,\n",
    "        0.05706582790384183, 0.1067175915524601, 0.08941810829027184,\n",
    "        0.06043585711076162, 0.07503931700741405, 0.07121995057290496\n",
    "    ],\n",
    "    \"sapp\": [\n",
    "        0.2222222222222222, 0.0, 0.1111111111111111, 0.0,\n",
    "        0.1111111111111111, 0.1111111111111111, 0.0, 0.2222222222222222,\n",
    "        0.0, 0.1111111111111111, 0.0, 0.1111111111111111,\n",
    "\n",
    "        0.2222222222222222, 0.0, 0.1111111111111111, 0.1111111111111111,\n",
    "        0.0, 0.1111111111111111, 0.0, 0.2222222222222222,\n",
    "        0.1111111111111111, 0.0, 0.05555555555555555, 0.05555555555555555\n",
    "    ],\n",
    "    \"aarden_essen\": [\n",
    "        0.17766092893562843, 0.001456239417504233, 0.1492649402940239,\n",
    "        0.0016018593592562562, 0.19804892078043168, 0.11358695456521818,\n",
    "        0.002912478835008466, 0.2206199117520353, 0.001456239417504233,\n",
    "        0.08154936738025305, 0.002329979068008373, 0.049512180195127924,\n",
    "\n",
    "        0.18264800547944018, 0.007376190221285707, 0.14049900421497014,\n",
    "        0.16859900505797015, 0.0070249402107482066, 0.14436200433086013,\n",
    "        0.0070249402107482066, 0.18616100558483017, 0.04566210136986304,\n",
    "        0.019318600579558018, 0.07376190221285707, 0.017562300526869017\n",
    "    ],\n",
    "    \"bellman_budge\": [\n",
    "        0.168, 0.0086, 0.1295, 0.0141, 0.1349, 0.1193,\n",
    "        0.0125, 0.2028, 0.018000000000000002, 0.0804, 0.0062, 0.1057,\n",
    "\n",
    "        0.1816, 0.0069, 0.12990000000000002,\n",
    "        0.1334, 0.010700000000000001, 0.1115,\n",
    "        0.0138, 0.2107, 0.07490000000000001,\n",
    "        0.015300000000000001, 0.0092, 0.10210000000000001\n",
    "    ],\n",
    "    \"temperley\": [\n",
    "        0.17616580310880825, 0.014130946773433817, 0.11493170042392838,\n",
    "        0.019312293923692884, 0.15779557230334432, 0.10833725859632594,\n",
    "        0.02260951483749411, 0.16839378238341965, 0.02449364107395195,\n",
    "        0.08619877531794629, 0.013424399434762127, 0.09420631182289213,\n",
    "\n",
    "        0.1702127659574468, 0.020081281377002155, 0.1133158020559407,\n",
    "        0.14774085584508725, 0.011714080803251255, 0.10996892182644036,\n",
    "        0.02510160172125269, 0.1785799665311977, 0.09658140090843893,\n",
    "        0.016017212526894576, 0.03179536218025341, 0.07889074826679417\n",
    "    ],\n",
    "    'albrecht_shanahan1': [\n",
    "        0.238, 0.006, 0.111, 0.006, 0.137, 0.094,\n",
    "        0.016, 0.214, 0.009, 0.080, 0.008, 0.081,\n",
    "\n",
    "         0.220, 0.006, 0.104, 0.123, 0.019, 0.103,\n",
    "         0.012, 0.214, 0.062, 0.022, 0.061, 0.052\n",
    "    ],\n",
    "    'albrecht_shanahan2': [\n",
    "        0.21169, 0.00892766, 0.120448, 0.0100265, 0.131444, 0.0911768, 0.0215947, 0.204703, 0.012894, 0.0900445, 0.012617, 0.0844338,\n",
    "\n",
    "        0.201933, 0.009335, 0.107284, 0.124169, 0.0199224, 0.108324,\n",
    "        0.014314, 0.202699, 0.0653907, 0.0252515, 0.071959, 0.049419\n",
    "    ]    \n",
    "}"
   ]
  },
  {
   "cell_type": "code",
   "execution_count": 3,
   "metadata": {},
   "outputs": [],
   "source": [
    "def compute_threshold(dist_max, dist_min, d, cutoff):    \n",
    "    if d < cutoff:        \n",
    "        thresh = dist_max - d * ((dist_max - dist_min) / cutoff)\n",
    "    else:\n",
    "        thresh = 0.0\n",
    "    return thresh\n",
    "\n",
    "def clipped_distribution(orig_dist, d, cutoff):\n",
    "    # make a copy of the original distribution\n",
    "    copy = np.array(orig_dist)\n",
    "    # compute the threshold to get rid of difficult notes at initial difficulties\n",
    "    threshold = compute_threshold(max(copy), min(copy), d, cutoff)\n",
    "    # remove the most difficult notes for low difficulties\n",
    "    copy[copy < threshold] = 0.0\n",
    "    # norm-1 of the distribution\n",
    "    copy = copy / sum(copy)\n",
    "    return copy, threshold"
   ]
  },
  {
   "cell_type": "code",
   "execution_count": 4,
   "metadata": {},
   "outputs": [],
   "source": [
    "def scaled_distribution(clipped_dist, h, d):\n",
    "    # make a copy of the original distribution\n",
    "    copy = np.array(clipped_dist)        \n",
    "    # compute the scaling factor based on handicap parameter and difficulty (user input)\n",
    "    scaling = h - (h * d)\n",
    "    # scale the distribution\n",
    "    copy = copy ** scaling\n",
    "    # norm-1 of the distribution\n",
    "    copy = copy / sum(copy)\n",
    "    return copy"
   ]
  },
  {
   "cell_type": "code",
   "execution_count": 81,
   "metadata": {},
   "outputs": [],
   "source": [
    "def f(dist_name, clipping, handicap, difficulty):\n",
    "    # create the figures\n",
    "    f, (axmaj, axmin) = plt.subplots(2, 3, sharex=True, sharey=True)\n",
    "    \n",
    "    # get the original distributions for major and minor keys\n",
    "    dist = np.array(distributions[dist_name])\n",
    "    major = dist[:12]\n",
    "    minor = dist[12:]\n",
    "    \n",
    "    # clip the distributions for lower difficulties\n",
    "    clipped_major, major_threshold = clipped_distribution(major, difficulty, clipping)\n",
    "    clipped_minor, minor_threshold = clipped_distribution(minor, difficulty, clipping)\n",
    "    \n",
    "    # get the scaled distribution according to difficulty, handicap, and initial clipping    \n",
    "    scaled_major = scaled_distribution(clipped_major, handicap, difficulty)\n",
    "    scaled_minor = scaled_distribution(clipped_minor, handicap, difficulty)\n",
    "    \n",
    "    ylim_major = max(max(np.amax(major), np.amax(clipped_major)), np.amax(scaled_major))\n",
    "    ylim_minor = max(max(np.amax(minor), np.amax(clipped_minor)), np.amax(scaled_minor))\n",
    "    \n",
    "    # prepare to plot\n",
    "    x = np.array(['C', 'C#', 'D', 'Eb', 'E', 'F',\n",
    "                  'F#', 'G', 'Ab', 'A', 'Bb', 'B'])    \n",
    "    \n",
    "    sns.barplot(x=x, y=major, ax=axmaj[0])    \n",
    "    axmaj[0].set_title(\"Original Major\")\n",
    "    axmaj[0].axhline(major_threshold, color=\"k\", clip_on=True)\n",
    "    axmaj[0].set_ylim(0, ylim_major)\n",
    "    \n",
    "    sns.barplot(x=x, y=clipped_major, ax=axmaj[1])\n",
    "    axmaj[1].set_title(\"Clipped Major\")\n",
    "    axmaj[1].set_ylim(0, ylim_major)\n",
    "    \n",
    "    sns.barplot(x=x, y=scaled_major, ax=axmaj[2])\n",
    "    axmaj[2].set_title(\"Scaled Major\")\n",
    "    axmaj[2].set_ylim(0, ylim_major)\n",
    "    \n",
    "    sns.barplot(x=x, y=minor, ax=axmin[0])\n",
    "    axmin[0].set_title(\"Original Minor\")\n",
    "    axmin[0].axhline(minor_threshold, color=\"k\", clip_on=True)\n",
    "    axmin[0].set_ylim(0, ylim_minor)\n",
    "    \n",
    "    sns.barplot(x=x, y=clipped_minor, ax=axmin[1])\n",
    "    axmin[1].set_title(\"Clipped Minor\")\n",
    "    axmin[1].set_ylim(0, ylim_minor)\n",
    "    \n",
    "    sns.barplot(x=x, y=scaled_minor, ax=axmin[2])\n",
    "    axmin[2].set_title(\"Scaled Minor\")\n",
    "    axmin[2].set_ylim(0, ylim_minor)\n",
    "    \n",
    "    plt.tight_layout(h_pad=2)\n",
    "    plt.rcParams[\"figure.figsize\"] = (18,8)\n",
    "    return scaled_major, scaled_minor"
   ]
  },
  {
   "cell_type": "code",
   "execution_count": 82,
   "metadata": {},
   "outputs": [],
   "source": [
    "distribution_name = list(distributions.keys())\n",
    "handicap = widgets.IntSlider(min=1, max=10, value=2, continuous_update=False)\n",
    "difficulty = widgets.FloatSlider(min=0.0, max=1.0, value=0.5, step=0.01, continuous_update=False)\n",
    "clipping = widgets.FloatSlider(min=0.2, max=0.8, step=0.1, value=0.2, continuous_update=False)\n",
    "w = interactive(f, dist_name=distribution_name, handicap=handicap, difficulty=difficulty, clipping=clipping)"
   ]
  },
  {
   "cell_type": "code",
   "execution_count": 83,
   "metadata": {},
   "outputs": [],
   "source": [
    "rate = 16000.\n",
    "duration = .1\n",
    "t = np.linspace(0., duration, int(rate * duration))\n",
    "\n",
    "notes = range(12)\n",
    "freqs = 220. * 2**(np.arange(3, 3 + len(notes)) / 12.)\n",
    "\n",
    "def synth(f):\n",
    "    x = np.sin(f * 2. * np.pi * t) * np.sin(t * np.pi / duration)\n",
    "    display(Audio(x, rate=rate, autoplay=True))    "
   ]
  },
  {
   "cell_type": "code",
   "execution_count": 84,
   "metadata": {},
   "outputs": [
    {
     "data": {
      "application/vnd.jupyter.widget-view+json": {
       "model_id": "19281e800f97423182283d2219ab0cb0",
       "version_major": 2,
       "version_minor": 0
      },
      "text/plain": [
       "interactive(children=(Dropdown(description='dist_name', options=('krumhansl_kessler', 'sapp', 'aarden_essen', …"
      ]
     },
     "metadata": {},
     "output_type": "display_data"
    },
    {
     "data": {
      "application/vnd.jupyter.widget-view+json": {
       "model_id": "2227244b6ef74f5f931e71bc96bafbe9",
       "version_major": 2,
       "version_minor": 0
      },
      "text/plain": [
       "Button(description='C Major', style=ButtonStyle())"
      ]
     },
     "metadata": {},
     "output_type": "display_data"
    },
    {
     "data": {
      "application/vnd.jupyter.widget-view+json": {
       "model_id": "63b210cd90e64521bbf092547416b00e",
       "version_major": 2,
       "version_minor": 0
      },
      "text/plain": [
       "Output()"
      ]
     },
     "metadata": {},
     "output_type": "display_data"
    },
    {
     "data": {
      "application/vnd.jupyter.widget-view+json": {
       "model_id": "1986de68821342adb862547f056d6189",
       "version_major": 2,
       "version_minor": 0
      },
      "text/plain": [
       "Button(description='C Minor', style=ButtonStyle())"
      ]
     },
     "metadata": {},
     "output_type": "display_data"
    },
    {
     "data": {
      "application/vnd.jupyter.widget-view+json": {
       "model_id": "62673acd6ff849558e60d05c5e4ec053",
       "version_major": 2,
       "version_minor": 0
      },
      "text/plain": [
       "Output()"
      ]
     },
     "metadata": {},
     "output_type": "display_data"
    }
   ],
   "source": [
    "def sample_major_distribution(b):\n",
    "    with output_major:\n",
    "        major = w.result[0]\n",
    "        note = np.random.choice(np.arange(12), p=major)\n",
    "        synth(freqs[note])\n",
    "        clear_output(wait=duration)\n",
    "\n",
    "def sample_minor_distribution(b):\n",
    "    with output_minor:\n",
    "        minor = w.result[1]\n",
    "        note = np.random.choice(np.arange(12), p=minor)\n",
    "        synth(freqs[note])\n",
    "        clear_output(wait=duration)\n",
    "\n",
    "display(w)\n",
    "        \n",
    "sample_major = widgets.Button(description=\"C Major\")\n",
    "output_major = widgets.Output()\n",
    "display(sample_major, output_major)    \n",
    "    \n",
    "sample_minor = widgets.Button(description=\"C Minor\")\n",
    "output_minor = widgets.Output()\n",
    "display(sample_minor, output_minor)\n",
    "\n",
    "sample_major.on_click(sample_major_distribution)\n",
    "sample_minor.on_click(sample_minor_distribution)"
   ]
  },
  {
   "cell_type": "code",
   "execution_count": null,
   "metadata": {},
   "outputs": [],
   "source": []
  }
 ],
 "metadata": {
  "kernelspec": {
   "display_name": "Python 3 (ipykernel)",
   "language": "python",
   "name": "python3"
  },
  "language_info": {
   "codemirror_mode": {
    "name": "ipython",
    "version": 3
   },
   "file_extension": ".py",
   "mimetype": "text/x-python",
   "name": "python",
   "nbconvert_exporter": "python",
   "pygments_lexer": "ipython3",
   "version": "3.9.9"
  }
 },
 "nbformat": 4,
 "nbformat_minor": 4
}
